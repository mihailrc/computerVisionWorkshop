{
  "cells": [
    {
      "cell_type": "markdown",
      "metadata": {
        "colab_type": "text",
        "id": "view-in-github"
      },
      "source": [
        "<a href=\"https://colab.research.google.com/github/mihailrc/computerVisionWorkshop/blob/master/PotholeTrainingYOLOv7.ipynb\" target=\"_parent\"><img src=\"https://colab.research.google.com/assets/colab-badge.svg\" alt=\"Open In Colab\"/></a>"
      ]
    },
    {
      "cell_type": "markdown",
      "metadata": {},
      "source": [
        "# **Train Yolov7 on a Pothole Custom Dataset**\n",
        "\n",
        "We will go through the steps to train yolov7 on a custom dataset like potholes. You can follow the steps with any other custom dataset as well.\n",
        "\n",
        "# **Tutorial**\n",
        "\n",
        "We will be implementing the following steps:\n",
        "\n",
        "1. Clone repo and setup dependencies\n",
        "2. Load custom dataset from Roboflow in YOLOv7 format\n",
        "2. Run YOLOv7 training\n",
        "3. Evaluation\n",
        "4. Download sample **video** and run YOLOv7 inference on it."
      ]
    },
    {
      "cell_type": "markdown",
      "metadata": {},
      "source": [
        "# 1 Clone repo and set up dependencies\n",
        "\n",
        "_(Remember to choose GPU in Runtime if not already selected. Runtime --> Change Runtime Type --> Hardware accelerator --> GPU)_"
      ]
    },
    {
      "cell_type": "code",
      "execution_count": null,
      "metadata": {
        "id": "-Mg-5JTsADzT"
      },
      "outputs": [],
      "source": [
        "%%bash\n",
        "cd /content\n",
        "git clone --recursive https://github.com/mihailrc/computerVisionWorkshop.git\n",
        "cd computerVisionWorkshop\n",
        "pip install -r requirements.txt"
      ]
    },
    {
      "cell_type": "markdown",
      "metadata": {},
      "source": [
        "# 2 Load custom dataset from Roboflow in YOLOv7 format\n",
        "\n",
        "Next, we'll download our dataset in the right format. Use the `YOLOv7 PyTorch` export. Note that this model requires YOLO TXT annotations, a custom YAML file, and organized directories. The roboflow export writes this for us and saves it in the correct spot.\n",
        "\n",
        "If you are using a custom data set then follow the instructions below, other wise just use the code in the next line.\n",
        "\n",
        "- make sure you sign up at https://roboflow.com/\n",
        "- go to https://universe.roboflow.com/veldi-aashrith/potholes-yhssy/dataset/3 (This the custom dataset i used. you can pick and choose your own)\n",
        "- click on the YOLOv7 box, check the option \"show download code\" and click Continue\n",
        "- copy the code generated and use it as below"
      ]
    },
    {
      "cell_type": "code",
      "execution_count": null,
      "metadata": {
        "colab": {
          "base_uri": "https://localhost:8080/",
          "height": 1000
        },
        "id": "cXviD5GaEcJK",
        "outputId": "16342a49-a9fc-4cc7-f5e7-5ff103cc8757"
      },
      "outputs": [],
      "source": [
        "!pip install roboflow\n",
        "\n",
        "from roboflow import Roboflow\n",
        "rf = Roboflow(api_key=\"Y7Yt5PctObeoJtGRULfo\")\n",
        "project = rf.workspace(\"veldi-aashrith\").project(\"potholes-yhssy\")\n",
        "dataset = project.version(3).download(\"yolov7\")"
      ]
    },
    {
      "cell_type": "markdown",
      "metadata": {},
      "source": [
        "# 3 Run YOLOv7 Training\n",
        "\n",
        "We're ready to start custom training."
      ]
    },
    {
      "cell_type": "code",
      "execution_count": null,
      "metadata": {
        "colab": {
          "base_uri": "https://localhost:8080/"
        },
        "id": "jpSDnV9fHDFR",
        "outputId": "ebc1955f-4c99-43c2-801c-c3a506fe2539"
      },
      "outputs": [],
      "source": [
        "# download COCO starting checkpoint\n",
        "%cd /content/computerVisionWorkshop/yolov7\n",
        "!wget https://github.com/WongKinYiu/yolov7/releases/download/v0.1/yolov7_training.pt"
      ]
    },
    {
      "cell_type": "code",
      "execution_count": null,
      "metadata": {
        "colab": {
          "base_uri": "https://localhost:8080/"
        },
        "id": "zEEzYOsGItpz",
        "outputId": "b9225887-2233-4ffb-b0af-b61a2ad1daac"
      },
      "outputs": [],
      "source": [
        "# run this cell to begin training\n",
        "%cd /content/computerVisionWorkshop/yolov7\n",
        "!python train.py --batch 16 --epochs 55 --data {dataset.location}/data.yaml --weights 'yolov7_training.pt' --device 0 "
      ]
    },
    {
      "cell_type": "markdown",
      "metadata": {},
      "source": [
        "# 4 Evaluation\n",
        "\n",
        "We can evaluate the performance of our custom training using the provided evaluation script."
      ]
    },
    {
      "cell_type": "code",
      "execution_count": null,
      "metadata": {},
      "outputs": [],
      "source": [
        "# Run evaluation\n",
        "!python detect.py --weights runs/train/exp/weights/best.pt --conf 0.1 --source {dataset.location}/test/images"
      ]
    },
    {
      "cell_type": "markdown",
      "metadata": {},
      "source": [
        "# 5 Download sample **video** and run YOLOv7 inference on it."
      ]
    },
    {
      "cell_type": "code",
      "execution_count": null,
      "metadata": {
        "colab": {
          "base_uri": "https://localhost:8080/"
        },
        "id": "gGDKrH7CZl-3",
        "outputId": "e91d9109-865c-417f-80a5-6aa7fea26d90"
      },
      "outputs": [],
      "source": [
        "!pip install youtube_dl\n",
        "\n",
        "import youtube_dl\n",
        "\n",
        "link = 'https://www.youtube.com/embed/BQo87tGRM74?start=270&end=285'\n",
        "\n",
        "ydl_opts = {}\n",
        "\n",
        "with youtube_dl.YoutubeDL(ydl_opts) as ydl:\n",
        "    info_dict = ydl.extract_info(link, download=False)\n",
        "    video_title = info_dict.get('title', None)\n",
        "\n",
        "path = 'potholes.mp4'\n",
        "\n",
        "ydl_opts.update({'outtmpl':path})\n",
        "\n",
        "with youtube_dl.YoutubeDL(ydl_opts) as ydl:\n",
        "    ydl.download([link])"
      ]
    },
    {
      "cell_type": "code",
      "execution_count": null,
      "metadata": {},
      "outputs": [],
      "source": [
        "!pip install ffmpeg-python\n",
        "\n",
        "import ffmpeg\n",
        "(\n",
        "    ffmpeg\n",
        "    .input('/content/potholes.mp4')\n",
        "    .trim(start=270, end=285)\n",
        "    .setpts('PTS-STARTPTS')\n",
        "    .output(f'/content/potholesshort.mp4')\n",
        "    .run()\n",
        ")"
      ]
    },
    {
      "cell_type": "code",
      "execution_count": null,
      "metadata": {
        "colab": {
          "base_uri": "https://localhost:8080/"
        },
        "id": "gGDKrH7CZl-3",
        "outputId": "e91d9109-865c-417f-80a5-6aa7fea26d90"
      },
      "outputs": [],
      "source": [
        "%%bash\n",
        "cd /content/computerVisionWorkshop/yolov7/\n",
        "python detect.py --weights runs/train/exp/weights/best.pt --conf 0.25 --img-size 640 --source /content/potholesshort.mp4"
      ]
    }
  ],
  "metadata": {
    "accelerator": "GPU",
    "colab": {
      "authorship_tag": "ABX9TyNs1na0gp0aRUMqR/Q+pnma",
      "collapsed_sections": [],
      "include_colab_link": true,
      "provenance": []
    },
    "kernelspec": {
      "display_name": "Python 3.10.6 64-bit",
      "language": "python",
      "name": "python3"
    },
    "language_info": {
      "name": "python",
      "version": "3.10.6"
    },
    "vscode": {
      "interpreter": {
        "hash": "949777d72b0d2535278d3dc13498b2535136f6dfe0678499012e853ee9abcab1"
      }
    }
  },
  "nbformat": 4,
  "nbformat_minor": 0
}
